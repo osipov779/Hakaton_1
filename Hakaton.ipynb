{
 "cells": [
  {
   "cell_type": "markdown",
   "id": "ed544b28-857c-4df0-8338-c5ff148a047f",
   "metadata": {
    "tags": []
   },
   "source": [
    "##Установка и импорт библиотек\\\n",
    "Для наших экспериментов мы использовали mmaction2, поскольку он предоставляет готовое решение для многих задач компьютерного зрения, включая распознавание жестов."
   ]
  },
  {
   "cell_type": "code",
   "execution_count": null,
   "id": "325f73d1-4b45-4eca-b21d-9e39cba5eba8",
   "metadata": {},
   "outputs": [],
   "source": [
    "!pip install torch==1.12.0 torchvision --extra-index-url https://download.pytorch.org/whl/cu113\n",
    "!pip install -U openmim\n",
    "!mim install mmengine\n",
    "!mim install 'mmcv >= 2.0.0'\n",
    "! git clone https://github.com/open-mmlab/mmaction2.git\n",
    "%cd mmaction2\n",
    "! pip install -v -e ."
   ]
  },
  {
   "cell_type": "code",
   "execution_count": 1,
   "id": "2abe331e-4edf-4362-8a02-fdcc064627f3",
   "metadata": {},
   "outputs": [],
   "source": [
    "# Libraries import \n",
    "import os\n",
    "import cv2\n",
    "import pandas as pd\n",
    "from tqdm import tqdm\n",
    "from glob import glob\n",
    "import matplotlib.pyplot as plt\n",
    "\n",
    "import warnings\n",
    "warnings.filterwarnings('ignore')\n",
    "\n",
    "plt.rcParams['figure.dpi'] = 300\n",
    "plt.rcParams['savefig.dpi'] = 300\n",
    "plt.rcParams.update({'font.size': 10})"
   ]
  },
  {
   "cell_type": "code",
   "execution_count": 2,
   "id": "b1de291d-4d0a-420a-a196-d4a3fd880625",
   "metadata": {},
   "outputs": [],
   "source": [
    "import torch\n",
    "import mmaction2"
   ]
  },
  {
   "cell_type": "code",
   "execution_count": 3,
   "id": "6b2b4e42-b78d-4f1b-9f31-d99d9cc56f47",
   "metadata": {
    "tags": []
   },
   "outputs": [],
   "source": [
    "DATA_DIR = r'C:\\Users\\User\\Documents\\МФТИ\\Pyton\\DATA_DIR'\n",
    "TRAIN_DIR = os.path.join(DATA_DIR, 'train')\n",
    "TEST_DIR = os.path.join(DATA_DIR, 'test')\n",
    "ANNOTATIONS_DIR = os.path.join(DATA_DIR, 'annotations.csv')"
   ]
  },
  {
   "cell_type": "code",
   "execution_count": 4,
   "id": "b57b1b99-3408-4d17-9d01-215bbd4212fe",
   "metadata": {
    "tags": []
   },
   "outputs": [
    {
     "data": {
      "text/html": [
       "<div>\n",
       "<style scoped>\n",
       "    .dataframe tbody tr th:only-of-type {\n",
       "        vertical-align: middle;\n",
       "    }\n",
       "\n",
       "    .dataframe tbody tr th {\n",
       "        vertical-align: top;\n",
       "    }\n",
       "\n",
       "    .dataframe thead th {\n",
       "        text-align: right;\n",
       "    }\n",
       "</style>\n",
       "<table border=\"1\" class=\"dataframe\">\n",
       "  <thead>\n",
       "    <tr style=\"text-align: right;\">\n",
       "      <th></th>\n",
       "      <th>attachment_id</th>\n",
       "      <th>text</th>\n",
       "      <th>user_id</th>\n",
       "      <th>height</th>\n",
       "      <th>width</th>\n",
       "      <th>length</th>\n",
       "      <th>train</th>\n",
       "      <th>begin</th>\n",
       "      <th>end</th>\n",
       "    </tr>\n",
       "  </thead>\n",
       "  <tbody>\n",
       "    <tr>\n",
       "      <th>0</th>\n",
       "      <td>44e8d2a0-7e01-450b-90b0-beb7400d2c1e</td>\n",
       "      <td>Ё</td>\n",
       "      <td>185bd3a81d9d618518d10abebf0d17a8</td>\n",
       "      <td>1920</td>\n",
       "      <td>1080</td>\n",
       "      <td>156.0</td>\n",
       "      <td>True</td>\n",
       "      <td>36</td>\n",
       "      <td>112</td>\n",
       "    </tr>\n",
       "    <tr>\n",
       "      <th>1</th>\n",
       "      <td>df5b08f0-41d1-4572-889c-8b893e71069b</td>\n",
       "      <td>А</td>\n",
       "      <td>185bd3a81d9d618518d10abebf0d17a8</td>\n",
       "      <td>1920</td>\n",
       "      <td>1080</td>\n",
       "      <td>150.0</td>\n",
       "      <td>True</td>\n",
       "      <td>36</td>\n",
       "      <td>76</td>\n",
       "    </tr>\n",
       "    <tr>\n",
       "      <th>2</th>\n",
       "      <td>17f53df4-c467-4aff-9f48-20687b63d49a</td>\n",
       "      <td>Р</td>\n",
       "      <td>185bd3a81d9d618518d10abebf0d17a8</td>\n",
       "      <td>1920</td>\n",
       "      <td>1080</td>\n",
       "      <td>133.0</td>\n",
       "      <td>True</td>\n",
       "      <td>40</td>\n",
       "      <td>97</td>\n",
       "    </tr>\n",
       "    <tr>\n",
       "      <th>3</th>\n",
       "      <td>e3add916-c708-4339-ad98-7e2740be29e9</td>\n",
       "      <td>Е</td>\n",
       "      <td>185bd3a81d9d618518d10abebf0d17a8</td>\n",
       "      <td>1920</td>\n",
       "      <td>1080</td>\n",
       "      <td>144.0</td>\n",
       "      <td>True</td>\n",
       "      <td>43</td>\n",
       "      <td>107</td>\n",
       "    </tr>\n",
       "    <tr>\n",
       "      <th>4</th>\n",
       "      <td>bd7272ed-1850-48f1-a2a8-c8fed523dc37</td>\n",
       "      <td>Ч</td>\n",
       "      <td>185bd3a81d9d618518d10abebf0d17a8</td>\n",
       "      <td>1920</td>\n",
       "      <td>1080</td>\n",
       "      <td>96.0</td>\n",
       "      <td>True</td>\n",
       "      <td>20</td>\n",
       "      <td>70</td>\n",
       "    </tr>\n",
       "  </tbody>\n",
       "</table>\n",
       "</div>"
      ],
      "text/plain": [
       "                          attachment_id text  \\\n",
       "0  44e8d2a0-7e01-450b-90b0-beb7400d2c1e    Ё   \n",
       "1  df5b08f0-41d1-4572-889c-8b893e71069b    А   \n",
       "2  17f53df4-c467-4aff-9f48-20687b63d49a    Р   \n",
       "3  e3add916-c708-4339-ad98-7e2740be29e9    Е   \n",
       "4  bd7272ed-1850-48f1-a2a8-c8fed523dc37    Ч   \n",
       "\n",
       "                            user_id  height  width  length  train  begin  end  \n",
       "0  185bd3a81d9d618518d10abebf0d17a8    1920   1080   156.0   True     36  112  \n",
       "1  185bd3a81d9d618518d10abebf0d17a8    1920   1080   150.0   True     36   76  \n",
       "2  185bd3a81d9d618518d10abebf0d17a8    1920   1080   133.0   True     40   97  \n",
       "3  185bd3a81d9d618518d10abebf0d17a8    1920   1080   144.0   True     43  107  \n",
       "4  185bd3a81d9d618518d10abebf0d17a8    1920   1080    96.0   True     20   70  "
      ]
     },
     "execution_count": 4,
     "metadata": {},
     "output_type": "execute_result"
    }
   ],
   "source": [
    "ann = pd.read_csv(ANNOTATIONS_DIR, sep='\\t')\n",
    "ann.head()"
   ]
  },
  {
   "cell_type": "code",
   "execution_count": 5,
   "id": "dec64982-940c-40aa-b34e-5d44c0e259ad",
   "metadata": {
    "tags": []
   },
   "outputs": [],
   "source": [
    "train_files = sorted(glob(os.path.join(TRAIN_DIR, '*')))\n",
    "test_files = sorted(glob(os.path.join(TEST_DIR, '*')))\n",
    "\n",
    "train_sample = train_files[0]\n",
    "test_sample = test_files[0]"
   ]
  },
  {
   "cell_type": "code",
   "execution_count": 6,
   "id": "f05d25f1-0074-4acc-b576-51ad8c5722fa",
   "metadata": {
    "tags": []
   },
   "outputs": [
    {
     "data": {
      "text/plain": [
       "'C:\\\\Users\\\\User\\\\Documents\\\\МФТИ\\\\Pyton\\\\DATA_DIR\\\\train\\\\00019bad-4c36-4cc5-a940-2f994bc4037a.mp4'"
      ]
     },
     "execution_count": 6,
     "metadata": {},
     "output_type": "execute_result"
    }
   ],
   "source": [
    "train_sample"
   ]
  },
  {
   "cell_type": "code",
   "execution_count": 7,
   "id": "d43eef39-9a68-4af9-b947-8da1c21346d1",
   "metadata": {
    "tags": []
   },
   "outputs": [],
   "source": [
    "def visualize_frames(video_path: str, title: str, num_frames=5):\n",
    "    fig, axes_list = plt.subplots(nrows=1, ncols=5, figsize=(10, 3))\n",
    "    vidcap = cv2.VideoCapture(video_path)\n",
    "    \n",
    "    STEP = 4 # sampling step (in frames)\n",
    "    for i in range(num_frames):\n",
    "        vidcap.set(cv2.CAP_PROP_POS_FRAMES, (i * STEP) - 1)\n",
    "        success, frame = vidcap.read()\n",
    "        if success:\n",
    "            axes_list[i].imshow(frame[:, :, ::-1])\n",
    "            axes_list[i].axis('off')\n",
    "    plt.suptitle(title,\n",
    "                 x=0.05, y=1.0,\n",
    "                 horizontalalignment='left',\n",
    "                 fontweight='semibold',\n",
    "                 fontsize='large')\n",
    "    plt.show()"
   ]
  },
  {
   "cell_type": "code",
   "execution_count": null,
   "id": "438926aa-0b78-4ba1-b6af-df880246c706",
   "metadata": {},
   "outputs": [],
   "source": [
    "#visualize_frames(train_sample, 'Training sample')\n",
    "#visualize_frames(test_sample, 'Test sample')"
   ]
  },
  {
   "cell_type": "markdown",
   "id": "95ecfaf3-fe8c-4fb8-9095-b02c4693a39b",
   "metadata": {},
   "source": [
    "**Создавайте файлы аннотаций для обучения и тестирования.**\\\n",
    "Чтобы обучить модель, нам нужно создать файлы аннотаций с путем к видео и метками."
   ]
  },
  {
   "cell_type": "code",
   "execution_count": 8,
   "id": "9ca8c131-e823-47bc-8937-3085826c01d5",
   "metadata": {
    "tags": []
   },
   "outputs": [
    {
     "data": {
      "text/html": [
       "<div>\n",
       "<style scoped>\n",
       "    .dataframe tbody tr th:only-of-type {\n",
       "        vertical-align: middle;\n",
       "    }\n",
       "\n",
       "    .dataframe tbody tr th {\n",
       "        vertical-align: top;\n",
       "    }\n",
       "\n",
       "    .dataframe thead th {\n",
       "        text-align: right;\n",
       "    }\n",
       "</style>\n",
       "<table border=\"1\" class=\"dataframe\">\n",
       "  <thead>\n",
       "    <tr style=\"text-align: right;\">\n",
       "      <th></th>\n",
       "      <th>attachment_id</th>\n",
       "      <th>text</th>\n",
       "      <th>user_id</th>\n",
       "      <th>height</th>\n",
       "      <th>width</th>\n",
       "      <th>length</th>\n",
       "      <th>train</th>\n",
       "      <th>begin</th>\n",
       "      <th>end</th>\n",
       "    </tr>\n",
       "  </thead>\n",
       "  <tbody>\n",
       "    <tr>\n",
       "      <th>0</th>\n",
       "      <td>44e8d2a0-7e01-450b-90b0-beb7400d2c1e</td>\n",
       "      <td>Ё</td>\n",
       "      <td>185bd3a81d9d618518d10abebf0d17a8</td>\n",
       "      <td>1920</td>\n",
       "      <td>1080</td>\n",
       "      <td>156.0</td>\n",
       "      <td>True</td>\n",
       "      <td>36</td>\n",
       "      <td>112</td>\n",
       "    </tr>\n",
       "    <tr>\n",
       "      <th>1</th>\n",
       "      <td>df5b08f0-41d1-4572-889c-8b893e71069b</td>\n",
       "      <td>А</td>\n",
       "      <td>185bd3a81d9d618518d10abebf0d17a8</td>\n",
       "      <td>1920</td>\n",
       "      <td>1080</td>\n",
       "      <td>150.0</td>\n",
       "      <td>True</td>\n",
       "      <td>36</td>\n",
       "      <td>76</td>\n",
       "    </tr>\n",
       "    <tr>\n",
       "      <th>2</th>\n",
       "      <td>17f53df4-c467-4aff-9f48-20687b63d49a</td>\n",
       "      <td>Р</td>\n",
       "      <td>185bd3a81d9d618518d10abebf0d17a8</td>\n",
       "      <td>1920</td>\n",
       "      <td>1080</td>\n",
       "      <td>133.0</td>\n",
       "      <td>True</td>\n",
       "      <td>40</td>\n",
       "      <td>97</td>\n",
       "    </tr>\n",
       "    <tr>\n",
       "      <th>3</th>\n",
       "      <td>e3add916-c708-4339-ad98-7e2740be29e9</td>\n",
       "      <td>Е</td>\n",
       "      <td>185bd3a81d9d618518d10abebf0d17a8</td>\n",
       "      <td>1920</td>\n",
       "      <td>1080</td>\n",
       "      <td>144.0</td>\n",
       "      <td>True</td>\n",
       "      <td>43</td>\n",
       "      <td>107</td>\n",
       "    </tr>\n",
       "    <tr>\n",
       "      <th>4</th>\n",
       "      <td>bd7272ed-1850-48f1-a2a8-c8fed523dc37</td>\n",
       "      <td>Ч</td>\n",
       "      <td>185bd3a81d9d618518d10abebf0d17a8</td>\n",
       "      <td>1920</td>\n",
       "      <td>1080</td>\n",
       "      <td>96.0</td>\n",
       "      <td>True</td>\n",
       "      <td>20</td>\n",
       "      <td>70</td>\n",
       "    </tr>\n",
       "  </tbody>\n",
       "</table>\n",
       "</div>"
      ],
      "text/plain": [
       "                          attachment_id text  \\\n",
       "0  44e8d2a0-7e01-450b-90b0-beb7400d2c1e    Ё   \n",
       "1  df5b08f0-41d1-4572-889c-8b893e71069b    А   \n",
       "2  17f53df4-c467-4aff-9f48-20687b63d49a    Р   \n",
       "3  e3add916-c708-4339-ad98-7e2740be29e9    Е   \n",
       "4  bd7272ed-1850-48f1-a2a8-c8fed523dc37    Ч   \n",
       "\n",
       "                            user_id  height  width  length  train  begin  end  \n",
       "0  185bd3a81d9d618518d10abebf0d17a8    1920   1080   156.0   True     36  112  \n",
       "1  185bd3a81d9d618518d10abebf0d17a8    1920   1080   150.0   True     36   76  \n",
       "2  185bd3a81d9d618518d10abebf0d17a8    1920   1080   133.0   True     40   97  \n",
       "3  185bd3a81d9d618518d10abebf0d17a8    1920   1080   144.0   True     43  107  \n",
       "4  185bd3a81d9d618518d10abebf0d17a8    1920   1080    96.0   True     20   70  "
      ]
     },
     "execution_count": 8,
     "metadata": {},
     "output_type": "execute_result"
    }
   ],
   "source": [
    "ann.head()"
   ]
  },
  {
   "cell_type": "code",
   "execution_count": 9,
   "id": "7b276b95-beb2-4fe9-bbee-b2d6c6cb5827",
   "metadata": {},
   "outputs": [
    {
     "name": "stderr",
     "output_type": "stream",
     "text": [
      "100%|███████████████████████████████████████████████████████████████████████████| 20400/20400 [03:05<00:00, 109.97it/s]\n"
     ]
    }
   ],
   "source": [
    "NUM_CLASSES = len(ann['text'].unique()) # Including \"no-action\" class\n",
    "classes = {label: label_id for label, label_id in zip(ann['text'].unique(), range(NUM_CLASSES))}\n",
    "\n",
    "ann_train = []\n",
    "ann_test = []\n",
    "\n",
    "for file in tqdm(train_files + test_files):\n",
    "    video_id = file.split('\\\\')[-1][:-4]\n",
    "    label = ann[ann['attachment_id'] == video_id]['text'].to_string(index=False)\n",
    "    class_id = classes[label]\n",
    "    line = file + ' ' + str(class_id) + '\\n'\n",
    "    if ann[ann['attachment_id'] == video_id]['train'].bool():\n",
    "        ann_train.append(line)\n",
    "    else:\n",
    "        ann_test.append(line)"
   ]
  },
  {
   "cell_type": "code",
   "execution_count": null,
   "id": "a7ee3c30-921a-4d97-9c9a-ae5666f87809",
   "metadata": {
    "tags": []
   },
   "outputs": [],
   "source": [
    "with open(os.path.join(DATA_DIR, 'ann_train.txt'), 'w') as train_file, open(os.path.join(DATA_DIR, 'ann_test.txt'), 'w') as test_file:\n",
    "    train_file.writelines(ann_train)\n",
    "    test_file.writelines(ann_test)"
   ]
  },
  {
   "cell_type": "code",
   "execution_count": null,
   "id": "24c7fab9-e049-43f7-ac4c-19e86ca0b523",
   "metadata": {},
   "outputs": [],
   "source": [
    "%%writefile -a mvit-slovo.py\n",
    "\n",
    "# Model settings\n",
    "model = dict(\n",
    "    type='Recognizer3D',\n",
    "    backbone=dict(\n",
    "        type='MViT',\n",
    "        arch='small',\n",
    "        drop_path_rate=0.2,\n",
    "        init_cfg=dict(\n",
    "            type='Pretrained',\n",
    "            checkpoint=\n",
    "            'https://download.openmmlab.com/mmaction/v1.0/recognition/mvit/converted/mvit-small-p244_16x4x1_kinetics400-rgb_20221021-9ebaaeed.pth',\n",
    "            prefix='backbone.')),\n",
    "    data_preprocessor=dict(\n",
    "        type='ActionDataPreprocessor',\n",
    "        mean=[123.675, 116.28, 103.53],\n",
    "        std=[58.395, 57.12, 57.375],\n",
    "        format_shape='NCTHW'),\n",
    "    cls_head=dict(\n",
    "        type='MViTHead',\n",
    "        in_channels=768,\n",
    "        num_classes=1001,\n",
    "        label_smooth_eps=0.1,\n",
    "        average_clips='prob'))"
   ]
  },
  {
   "cell_type": "code",
   "execution_count": 10,
   "id": "e298c1e0-263e-495f-a381-478417ed7dfd",
   "metadata": {
    "tags": []
   },
   "outputs": [
    {
     "name": "stdout",
     "output_type": "stream",
     "text": [
      "Writing mvit-slovo.py\n"
     ]
    }
   ],
   "source": [
    "%%writefile -a mvit-slovo.py\n",
    "\n",
    "# Model settings\n",
    "model = dict(\n",
    "    type='Recognizer3D',\n",
    "    backbone=dict(\n",
    "        type='MViT',\n",
    "        arch='small',\n",
    "        drop_path_rate=0.2,\n",
    "        init_cfg=dict(\n",
    "            type='Pretrained',\n",
    "            checkpoint=\n",
    "            'https://download.openmmlab.com/mmaction/v1.0/recognition/mvit/converted/mvit-small-p244_16x4x1_kinetics400-rgb_20221021-9ebaaeed.pth',\n",
    "            prefix='backbone.')),\n",
    "    data_preprocessor=dict(\n",
    "        type='ActionDataPreprocessor',\n",
    "        mean=[123.675, 116.28, 103.53],\n",
    "        std=[58.395, 57.12, 57.375],\n",
    "        format_shape='NCTHW'),\n",
    "    cls_head=dict(\n",
    "        type='MViTHead',\n",
    "        in_channels=768,\n",
    "        num_classes=1001,\n",
    "        label_smooth_eps=0.1,\n",
    "        average_clips='prob'))"
   ]
  },
  {
   "cell_type": "code",
   "execution_count": null,
   "id": "29780f8b-4616-4a1a-8be5-3a4a4a527c51",
   "metadata": {},
   "outputs": [],
   "source": [
    "%%writefile -a mvit-slovo.py\n",
    "\n",
    "# Specify dataset paths\n",
    "dataset_type = 'VideoDataset'\n",
    "data_root = '/kaggle/input/slovo/train'\n",
    "data_root_val = '/kaggle/input/slovo/test'\n",
    "ann_file_train = '/kaggle/working/mmaction2/ann_train.txt'\n",
    "ann_file_val = '/kaggle/working/mmaction2/ann_test.txt'\n",
    "ann_file_test = '/kaggle/working/mmaction2/ann_test.txt'"
   ]
  }
 ],
 "metadata": {
  "kernelspec": {
   "display_name": "Python 3 (ipykernel)",
   "language": "python",
   "name": "python3"
  },
  "language_info": {
   "codemirror_mode": {
    "name": "ipython",
    "version": 3
   },
   "file_extension": ".py",
   "mimetype": "text/x-python",
   "name": "python",
   "nbconvert_exporter": "python",
   "pygments_lexer": "ipython3",
   "version": "3.11.4"
  }
 },
 "nbformat": 4,
 "nbformat_minor": 5
}
